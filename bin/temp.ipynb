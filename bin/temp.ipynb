{
 "cells": [
  {
   "cell_type": "code",
   "execution_count": 2,
   "metadata": {},
   "outputs": [],
   "source": [
    "class Chain:\n",
    "    def __init__(self, cid):\n",
    "        self.cid = cid\n",
    "        self.res = []\n",
    "        return\n",
    "    \n",
    "    def addres(self, res):\n",
    "        self.res.append(res)\n",
    "        return\n",
    "    \n",
    "    def printchain(self):\n",
    "        print(\"chain: %s\" % str(self.cid))\n",
    "#         for res in self.res:\n",
    "#             res.printme()\n",
    "\n",
    "class Residue:\n",
    "    def __init__(self, resid):\n",
    "        self.resid = resid\n",
    "        self.cid = list(self.resid)[2]\n",
    "        self.atoms = []\n",
    "        return\n",
    "\n",
    "    def addatom(self, atom):\n",
    "        self.atoms.append(atom)\n",
    "        return\n",
    "\n",
    "    def printme(self):\n",
    "        print(\"residue: %s\" % str(self.resid))\n",
    "#         for atom in self.atoms:\n",
    "#             atom.printline()\n",
    "#         return\n",
    "\n",
    "class Atom:\n",
    "    def __init__(self, line):\n",
    "        self.resName = \"\"\n",
    "        self.xyz = (0, 0, 0)\n",
    "        self.name = \"\"\n",
    "        self.cid = \"\"\n",
    "        self.seq = 0\n",
    "        self.serial = 0\n",
    "        self.loadline(line)\n",
    "        self.resid = (self.resName, self.seq, self.cid)\n",
    "        return\n",
    "\n",
    "    def loadline(self, line):\n",
    "        self.serial = int(line[6:11])\n",
    "        self.name = line[12:16]\n",
    "        self.resName = line[17:20]\n",
    "        self.cid = line[21]\n",
    "        self.seq = int(line[22:26])\n",
    "        self.xyz = (float(line[30:38]), float(line[38:46]), float(line[46:54]))\n",
    "        return\n",
    "\n",
    "    def printline(self):\n",
    "        print(\"ATOM  %5d %4s %3s %1s%4d    %8.3f%8.3f%8.3f\" % (self.serial, self.name, self.resName, self.cid,\n",
    "                                                             self.seq, self.xyz[0], self.xyz[1], self.xyz[2]))\n",
    "        return\n",
    "\n",
    "fname = '1fn3.pdb'\n",
    "atomlines = [line for line in open(fname).readlines() if line[:6] == \"ATOM  \" or line[:6] == \"HETATM\"]\n",
    "\n",
    "atoms = []\n",
    "for x in atomlines:\n",
    "    atoms.append(Atom(x))\n",
    "\n",
    "residues = []\n",
    "for atom in atoms:\n",
    "    # is this atom belong to an existing residue,\n",
    "    in_exisiting_residue = False\n",
    "    existing_res = None\n",
    "    for res in residues:\n",
    "        if atom.resid == res.resid:\n",
    "            existing_res = res\n",
    "            in_exisiting_residue = True\n",
    "            break\n",
    "    if in_exisiting_residue:\n",
    "        #if yes, add atom to that residue\n",
    "        existing_res.addatom(atom)\n",
    "    else:\n",
    "        # if not, create a new Residue object and add this atom to the new residue\n",
    "        new_res = Residue(atom.resid)\n",
    "        new_res.addatom(atom)\n",
    "        residues.append(new_res)\n",
    "\n",
    "chains = []\n",
    "for res in residues:\n",
    "    in_existing_chain = False\n",
    "    existing_chain = None\n",
    "    for chain in chains:\n",
    "        if res.cid == chain.cid:\n",
    "            existing_chain = chain\n",
    "            in_existing_chain = True\n",
    "            break\n",
    "    if in_existing_chain:\n",
    "        existing_chain.addres(res)\n",
    "    else:\n",
    "        new_chain = Chain(res.cid)\n",
    "        new_chain.addres(res)\n",
    "        chains.append(new_chain)\n",
    "        \n"
   ]
  },
  {
   "cell_type": "code",
   "execution_count": 45,
   "metadata": {},
   "outputs": [
    {
     "name": "stdout",
     "output_type": "stream",
     "text": [
      "no sequence skipped\n"
     ]
    },
    {
     "data": {
      "image/png": "[encoded data removed]",
      "text/plain": [
       "<Figure size 432x288 with 1 Axes>"
      ]
     },
     "metadata": {},
     "output_type": "display_data"
    }
   ],
   "source": [
    "distances = []\n",
    "for chain in chains:\n",
    "    for res in chain.res:\n",
    "        seq_skipped = False\n",
    "        current_seq = res.resid[1]\n",
    "        if current_seq != len(chain.res):\n",
    "            next_res = chain.res[current_seq]\n",
    "            if next_res.resid[1] != current_seq + 1:\n",
    "                seq_skipped = True\n",
    "                print('sequence skipped after', res.resid)\n",
    "            for atom1 in res.atoms:  \n",
    "                if 'C ' in atom1.name:\n",
    "                    C_coord = atom1.xyz\n",
    "                    for atom2 in next_res.atoms:\n",
    "                        if 'N ' in atom2.name:\n",
    "                            N_coord = atom2.xyz\n",
    "                            distance = ((C_coord[0] - N_coord[0])**2 + (C_coord[1] - N_coord[1])**2 + (C_coord[2] - N_coord[2])**2)**.5\n",
    "                            distances.append(distance)\n",
    "if seq_skipped == False:\n",
    "    print('no sequence skipped')\n",
    "        \n",
    "\n",
    "import matplotlib.pyplot as plt\n",
    "import numpy as np\n",
    "\n",
    "plt.hist(distances)\n",
    "plt.title(\"Histogram\")\n",
    "plt.xlabel(\"distances\")\n",
    "plt.ylabel(\"frequency\")\n",
    "\n",
    "plt.show()"
   ]
  },
  {
   "cell_type": "code",
   "execution_count": 42,
   "metadata": {},
   "outputs": [
    {
     "name": "stdout",
     "output_type": "stream",
     "text": [
      "159\n",
      "140\n"
     ]
    },
    {
     "data": {
      "image/png": "[encoded data removed]",
      "text/plain": [
       "<Figure size 432x288 with 1 Axes>"
      ]
     },
     "metadata": {},
     "output_type": "display_data"
    }
   ],
   "source": [
    "distances = []\n",
    "\n",
    "for res in chains[0].res:\n",
    "    current_seq = res.resid[1]\n",
    "    if current_seq != len(chains[0].res):\n",
    "        next_res = chains[0].res[current_seq]\n",
    "        for atom1 in res.atoms:\n",
    "            \n",
    "            if 'C ' in atom1.name:\n",
    "                cx = float(atom1.xyz[0])\n",
    "                cy = float(atom1.xyz[1])\n",
    "                cz = float(atom1.xyz[2])\n",
    "                for atom2 in next_res.atoms:\n",
    "\n",
    "                    if 'N ' in atom2.name:\n",
    "                        \n",
    "                        nx = float(atom2.xyz[0])\n",
    "                        ny = float(atom2.xyz[1])\n",
    "                        nz = float(atom2.xyz[2])\n",
    "                        distance = ((cx - nx)**2 + (cy - ny)**2 + (cz - nz)**2)**.5\n",
    "                        \n",
    "\n",
    "                        distances.append(distance)\n",
    "\n",
    "print(len(chains[0].res))\n",
    "print(len(distances))\n",
    "\n",
    "import matplotlib.pyplot as plt\n",
    "import numpy as np\n",
    "\n",
    "plt.hist(distances)\n",
    "plt.title(\"Histogram\")\n",
    "plt.xlabel(\"distances\")\n",
    "plt.ylabel(\"frequency\")\n",
    "\n",
    "plt.show()"
   ]
  },
  {
   "cell_type": "code",
   "execution_count": null,
   "metadata": {},
   "outputs": [],
   "source": []
  },
  {
   "cell_type": "code",
   "execution_count": null,
   "metadata": {},
   "outputs": [],
   "source": []
  },
  {
   "cell_type": "code",
   "execution_count": null,
   "metadata": {},
   "outputs": [],
   "source": []
  }
 ],
 "metadata": {
  "kernelspec": {
   "display_name": "Python 3",
   "language": "python",
   "name": "python3"
  },
  "language_info": {
   "codemirror_mode": {
    "name": "ipython",
    "version": 3
   },
   "file_extension": ".py",
   "mimetype": "text/x-python",
   "name": "python",
   "nbconvert_exporter": "python",
   "pygments_lexer": "ipython3",
   "version": "3.6.5"
  }
 },
 "nbformat": 4,
 "nbformat_minor": 2
}
